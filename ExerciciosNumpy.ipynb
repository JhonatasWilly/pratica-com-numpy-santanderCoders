{
  "cells": [
    {
      "cell_type": "markdown",
      "metadata": {
        "colab_type": "text",
        "id": "view-in-github"
      },
      "source": [
        "<a href=\"https://colab.research.google.com/github/robertosgpontes/tec_prog_1/blob/main/ExerciciosNumpy.ipynb\" target=\"_parent\"><img src=\"https://colab.research.google.com/assets/colab-badge.svg\" alt=\"Open In Colab\"/></a>"
      ]
    },
    {
      "cell_type": "markdown",
      "metadata": {
        "id": "eX5x6-bjE6hN"
      },
      "source": [
        "## Questão 1\n",
        "\n",
        "Crie um array 100 com valores aleatórios e ache os valores máximo e mínimo"
      ]
    },
    {
      "cell_type": "code",
      "execution_count": 6,
      "metadata": {
        "id": "kYKS_ae1E6hP"
      },
      "outputs": [
        {
          "name": "stdout",
          "output_type": "stream",
          "text": [
            "[0.99484264 0.74484813 0.01707105 0.22549697 0.94804466 0.79258623\n",
            " 0.31098792 0.49241654 0.01399605 0.01829374 0.79656908 0.11355879\n",
            " 0.41009417 0.1402184  0.9042262  0.01840657 0.26491134 0.34981423\n",
            " 0.63633499 0.38517755 0.4310519  0.98688526 0.59832904 0.71849447\n",
            " 0.6571592  0.28933365 0.57221767 0.708288   0.10181381 0.01540745\n",
            " 0.08081198 0.08726661 0.82292302 0.33550363 0.12231109 0.92993164\n",
            " 0.77112128 0.85575383 0.42909084 0.92888666 0.81231732 0.70239896\n",
            " 0.47223821 0.09577252 0.1713424  0.62704308 0.72937879 0.31526592\n",
            " 0.22805722 0.74261374 0.21977343 0.07879665 0.52404975 0.03893391\n",
            " 0.05135172 0.74977942 0.6872797  0.06016254 0.27190521 0.04400484\n",
            " 0.65724016 0.37810723 0.6453144  0.48220316 0.32858123 0.75273471\n",
            " 0.10075928 0.27694156 0.70280313 0.51137298 0.65667868 0.20929946\n",
            " 0.82910828 0.10928758 0.00537239 0.72540813 0.2240055  0.54251823\n",
            " 0.19157927 0.58177703 0.11124506 0.36588665 0.38525906 0.01693492\n",
            " 0.74827647 0.29525514 0.41219595 0.00873351 0.70728127 0.62183633\n",
            " 0.77396953 0.25676905 0.34152408 0.43016156 0.32825491 0.33373141\n",
            " 0.0185949  0.59171466 0.5739277  0.75996481]\n",
            "Valor maximo: 0.9948426405176145\n",
            "Valor minimo: 0.005372391317710945\n"
          ]
        }
      ],
      "source": [
        "import numpy as np  \n",
        "\n",
        "arr = np.random.rand(100)\n",
        "print(arr)\n",
        "\n",
        "print(f\"Valor maximo: {np.max(arr)}\")\n",
        "print(f\"Valor minimo: {np.min(arr)}\")\n"
      ]
    },
    {
      "cell_type": "markdown",
      "metadata": {
        "id": "qT9pSHp4E6hQ"
      },
      "source": [
        "## Questão 2\n",
        "Em Geometria Analítica, um **vetor** é uma quantidade que pode ser definida por um énuplo (uma sequência ordenada de *n* elementos) em que cada elemento representa a intensidade do vetor na direção especificada pela i-ésima componente desta sequência. \n",
        "\n",
        "Quando pensamos em duas dimensões, por exemplo, o vetor $R = (b,a)$ define, geometricamente, a entidade representada na figura abaixo, com componentes nos eixos x e y usuais.\n",
        "\n",
        "<img src = \"https://static.todamateria.com.br/upload/im/ag/image-721.jpg?auto_optimize=low\" />\n",
        "\n",
        "O **módulo** deste vetor, também chamado de intensidade, está geometricamente relacionado ao seu comprimento, e pode ser calculado diretamente pelas suas componentes, por meio de uma operação conhecida como **produto escalar** do vetor com ele mesmo. O módulo quadrático é expresso, desta forma, por:\n",
        "\n",
        "$|A|^2 = \\vec{A} \\cdot \\vec{A}$\n",
        "\n",
        "Por outro lado, o produto escalar entre dois vetores $A = (a_{x}, a_{y})$ e $B = (b_{x}, b_{y})$ é dado por:\n",
        "\n",
        "$\\vec{A} \\cdot \\vec{B} = a_{x} \\times b_{x} + a_{y} \\times b_{y}$ (e esta definição vale para qualquer que seja a dimensão do vetor).\n",
        "\n",
        "O módulo quadrático de um vetor é, portanto:\n",
        "\n",
        "$|A|² = a_{x}^2 + b_{x}^2$."
      ]
    },
    {
      "cell_type": "markdown",
      "metadata": {
        "id": "-ZU6W86sE6hT"
      },
      "source": [
        "Dado o exposto acima, escreva uma função que retorne o módulo de um vetor n-dimensional qualquer."
      ]
    },
    {
      "cell_type": "code",
      "execution_count": 8,
      "metadata": {},
      "outputs": [
        {
          "name": "stdout",
          "output_type": "stream",
          "text": [
            "[3 5]\n",
            "5.830951894845301\n"
          ]
        }
      ],
      "source": [
        "import numpy as np \n",
        "vet = np.array([3, 5])\n",
        "modulo = np.linalg.norm(vet)\n",
        "print(modulo)"
      ]
    },
    {
      "cell_type": "markdown",
      "metadata": {
        "id": "CRZdfzLgE6hU"
      },
      "source": [
        "## Questão 3\n",
        "\n",
        "Em uma **análise de regressão**, usualmente estamos interessados em descrever relações entre variáveis de um dado conjunto de dados por meio de uma **função** que descreva, o tanto quanto possível, estas relações.\n",
        "\n",
        "Por exemplo, no gráfico abaixo, os pontos vermelhos relacionam as medidas das duas variáveis sendo avaliadas (nos eixos x e y); e a linha azul aproxima a relação entre elas por uma função linear."
      ]
    },
    {
      "cell_type": "markdown",
      "metadata": {
        "id": "180Vp7AZE6hV"
      },
      "source": [
        "![Normdist_regression.png](https://miro.medium.com/v2/resize:fit:786/format:webp/1*LEmBCYAttxS6uI6rEyPLMQ.png)"
      ]
    },
    {
      "cell_type": "markdown",
      "metadata": {
        "id": "oQ1RFXOAE6hV"
      },
      "source": [
        "É possível ver que nem todos os pontos obedecem exatamente à relação ditada pela reta (isto é, há pontos que não estão exatamente \"sobre a reta\"; mas, sim, ligeraimente acima, ou abaixo, dela). Isto, contudo, é esperado em um modelo de regressão, por inúmeras fontes de incerteza associadas às medições."
      ]
    },
    {
      "cell_type": "markdown",
      "metadata": {
        "id": "XGWoc_O2E6hW"
      },
      "source": [
        "Uma das métricas que utilizamos para avaliar a qualidade de uma regressão é o **erro quadrático médio (EQM)**, que mensura a diferença total entre cada predição da regressão ($y_{prediction}$; que no nosso caso seriam os valores de y para a reta azul) com o valor real de cada i-ésima medida ($y_{i}$; que no nosso caso seriam as coordenadas y para cada ponto vermelho do gráfico). O EQM pode ser definido como:"
      ]
    },
    {
      "cell_type": "markdown",
      "metadata": {
        "id": "CjgOdTD6E6hX"
      },
      "source": [
        "$EQM = \\frac{1}{n}\\sum_{i=1}^{n}(y_{prediction} - y_{i})^2$."
      ]
    },
    {
      "cell_type": "markdown",
      "metadata": {
        "id": "qeXCrbmbE6hY"
      },
      "source": [
        "Isto posto, escreva uma função que calcule o EQM recebendo, como entrada, os vetores $y_{prediction}$ e $y_{i}$. Por exemplo, digamos que sua função se chame *calculate_eqm*, ela deve operar da seguinte forma:"
      ]
    },
    {
      "attachments": {},
      "cell_type": "markdown",
      "metadata": {},
      "source": [
        "```python\n",
        "\n",
        "# dados dois arrays quaisquer de mesmo tamanho, a função deve retornar o EQM\n",
        "y_prediction = np.array([1,2,3])\n",
        "y_i = np.array([0,0,3])\n",
        "calculate_eqm(y_prediction,y_i)\n",
        "\n",
        ">>> 1.6666666666666665\n",
        "\n",
        "```"
      ]
    },
    {
      "cell_type": "code",
      "execution_count": 9,
      "metadata": {},
      "outputs": [],
      "source": [
        "import numpy as np\n",
        "\n",
        "def calculate_eqm(y_predito: np.ndarray, y_real: np.ndarray) -> np.ndarray:\n",
        "\n",
        "    return ((y_predito - y_real)**2).mean()\n",
        "\n",
        "    #return np.mean((y_predito - y_real)**2)\n",
        "\n",
        "    #return ((y_predito - y_real)**2).sum()* (1/y_predito.size)\n"
      ]
    },
    {
      "cell_type": "code",
      "execution_count": 13,
      "metadata": {},
      "outputs": [
        {
          "name": "stdout",
          "output_type": "stream",
          "text": [
            "1.6666666666666667\n"
          ]
        }
      ],
      "source": [
        "y_prediction = np.array([1,2,3])\n",
        "y_i = np.array([0,0,3])\n",
        "\n",
        "calculate_eqm = np.mean((y_prediction - y_i) ** 2)\n",
        "\n",
        "print(calculate_eqm)"
      ]
    },
    {
      "cell_type": "markdown",
      "metadata": {
        "id": "Wh0_a8PjE6hc"
      },
      "source": [
        "## Questão 4\n",
        "\n",
        "Crie um array 2D (bidimensional) com 1 na borda e 0 dentro"
      ]
    },
    {
      "cell_type": "code",
      "execution_count": 18,
      "metadata": {},
      "outputs": [
        {
          "name": "stdout",
          "output_type": "stream",
          "text": [
            "[[1 1 1 1]\n",
            " [1 0 0 1]\n",
            " [1 0 0 1]\n",
            " [1 1 1 1]]\n"
          ]
        }
      ],
      "source": [
        "import numpy as np \n",
        "\n",
        "arr = np.ones((4,4), dtype=int)\n",
        "arr[1:-1, 1:-1] = 0 \n",
        "\n",
        "print(arr)"
      ]
    },
    {
      "cell_type": "markdown",
      "metadata": {
        "id": "U1CntgkZE6hc"
      },
      "source": [
        "## Questão 5\n",
        "\n",
        "Como adicionar uma borda de 0's ao redor de um array 2D (bidimensional) existente"
      ]
    },
    {
      "cell_type": "code",
      "execution_count": 31,
      "metadata": {},
      "outputs": [
        {
          "name": "stdout",
          "output_type": "stream",
          "text": [
            "Array: \n",
            "[[1 1 1 1]\n",
            " [1 1 1 1]\n",
            " [1 1 1 1]]\n",
            "Array modificado: \n",
            "[[0 0 0 0]\n",
            " [0 1 1 0]\n",
            " [0 0 0 0]]\n"
          ]
        }
      ],
      "source": [
        "import numpy as np \n",
        "\n",
        "arr = np.ones((3,4), dtype=int)\n",
        "print(f\"Array: \\n{arr}\")\n",
        "arr[0, :] = 0 \n",
        "arr[-1, :] = 0\n",
        "arr[:, 0] = 0\n",
        "arr[:, -1] = 0\n",
        "print(f\"Array modificado: \\n{arr}\")\n"
      ]
    },
    {
      "cell_type": "markdown",
      "metadata": {
        "id": "qHh149eAE6hd"
      },
      "source": [
        "## Questão 6\n",
        "\n",
        " A eletroencefalografia (EEG) é uma técnica que mensura potenciais elétricos cerebrais em diversas regiões do escalpo do paciente. Suponha que você recebeu um conjunto de dados na forma de uma matriz de 64 x 512 elementos, em que cada linha contém o sinal gravado em um dos **eletrodos** espalhados pelo escalpo em um exame de EEG, e cada coluna contém um valor de potencial elétrico, em microvolts. "
      ]
    },
    {
      "cell_type": "markdown",
      "metadata": {
        "id": "BRDY8u09E6hd"
      },
      "source": [
        "Como o sinal de EEG é muito suscetível a ruídos externos (interferências na qualidade do sinal), uma operação comum para atenuar a interferência no sinal consiste em tirar a média do potencial elétrico de todos os eletrodos, e subtrair este valor de cada um deles. Isto atenua fontes de ruído ao sinal comuns a todos os eletrodos. Em termos matemáticos, o sinal processado por esta operação, $X_{e,i}$ para cada eletrodo (e) e amostra (i), é dado por:"
      ]
    },
    {
      "cell_type": "markdown",
      "metadata": {
        "id": "NHLeT5deE6he"
      },
      "source": [
        "$X_{e,i} = \\hat{X_{e,i}} - \\frac{1}{N}\\sum_{e=1}^{N}\\hat{X_{e,i}}$,\n",
        "\n",
        "em que $\\hat{X_{e,i}}$ representa o sinal original (ou seja, é a matriz de entrada de 64 x 512 elementos), e $N$ indica o total de eletrodos."
      ]
    },
    {
      "cell_type": "markdown",
      "metadata": {
        "id": "ToiE-omdE6he"
      },
      "source": [
        "Com o exposto acima, escreva uma função que retorne uma matriz com os sinais de EEG processados conforme a operação mencionada. Sua função deve operar conforme o exemplo abaixo."
      ]
    },
    {
      "attachments": {},
      "cell_type": "markdown",
      "metadata": {},
      "source": [
        "```python\n",
        "\n",
        "# vamos supor uma matriz de entrada gerada por dados aleatórios\n",
        "X = np.random.randn(64,512)\n",
        "X.shape # apenas para verificar as dimensões\n",
        ">>> (64, 512)\n",
        "\n",
        "# a função deve executar a operação equacionada anteriormente, retornando uma nova matriz\n",
        "X_processado = process_EEG_signal(X)\n",
        "X_processado.shape\n",
        ">>> (64, 512)\n",
        "\n",
        "# Somando as diferenças entre cada elemento das duas matrizes, apenas para ilustrar que elas não são iguais\n",
        "(X_processado - X).sum()\n",
        ">>> -53.08727366483029\n",
        "\n",
        "# Visualizando as matrizes, para verificar uma vez mais que, de fato, os elementos são diferentes\n",
        "X\n",
        ">>> array([[ 0.29305925,  0.89663038, -0.61032202, ..., -0.88086364,\n",
        "        -0.8818789 ,  0.51260497],\n",
        "       [-0.01274415,  1.05439522,  0.47958092, ..., -2.15387924,\n",
        "         0.70721168,  0.97029889],\n",
        "       [ 1.09478371, -0.16120847,  1.58400361, ...,  0.20981813,\n",
        "         2.17373837,  0.94032162],\n",
        "       ...,\n",
        "       [-0.45294842, -2.28939505,  1.10111998, ...,  1.63581703,\n",
        "        -0.39394924, -1.13400723],\n",
        "       [-0.22669886,  0.25413429, -1.17870637, ..., -0.09509442,\n",
        "         0.90733806,  0.37999411],\n",
        "       [ 0.15476933, -0.03654717, -1.09982762, ...,  0.67600047,\n",
        "        -0.84533328, -0.56433144]])\n",
        "\n",
        "# Matriz após o processamento descrito no enunciado\n",
        "X_processado\n",
        "\n",
        ">>> array([[ 0.36713022,  0.85772513, -0.54902169, ..., -0.85626087,\n",
        "        -0.97611435,  0.51718998],\n",
        "       [ 0.06132682,  1.01548997,  0.54088126, ..., -2.12927647,\n",
        "         0.61297623,  0.97488389],\n",
        "       [ 1.16885469, -0.20011372,  1.64530394, ...,  0.23442091,\n",
        "         2.07950292,  0.94490663],\n",
        "       ...,\n",
        "       [-0.37887744, -2.3283003 ,  1.16242031, ...,  1.6604198 ,\n",
        "        -0.4881847 , -1.12942223],\n",
        "       [-0.15262788,  0.21522904, -1.11740604, ..., -0.07049164,\n",
        "         0.81310261,  0.38457911],\n",
        "       [ 0.22884031, -0.07545242, -1.03852729, ...,  0.70060324,\n",
        "        -0.93956874, -0.55974643]])\n",
        "\n",
        "```"
      ]
    },
    {
      "cell_type": "code",
      "execution_count": 47,
      "metadata": {
        "id": "OlxjvCnQE6hj"
      },
      "outputs": [
        {
          "name": "stdout",
          "output_type": "stream",
          "text": [
            "[[ 1.44535833 -0.65751225  0.43234691 ...  1.22664409  0.21041474\n",
            "   0.15347664]\n",
            " [-1.09713215 -0.45336589 -0.82107326 ...  0.10850195 -0.00477954\n",
            "   0.89400703]\n",
            " [-0.69174072  0.54336839 -0.67440247 ... -1.04633021 -0.69047239\n",
            "  -1.24567554]\n",
            " ...\n",
            " [ 0.35882823  0.86343348  0.66818023 ... -0.26591046  0.34377166\n",
            "   0.55253885]\n",
            " [-0.35089376  0.38799527 -0.44863142 ...  0.38525188  0.45149912\n",
            "   0.54639908]\n",
            " [ 1.09252764  0.56655044 -0.97752512 ... -0.30222691 -1.91569932\n",
            "  -1.90516607]]\n",
            "Dados processados: \n",
            "[[ 1.46372048 -0.63915009  0.45070906 ...  1.24500625  0.2287769\n",
            "   0.17183879]\n",
            " [-1.08148033 -0.43771408 -0.80542144 ...  0.12415376  0.01087227\n",
            "   0.90965884]\n",
            " [-0.6729375   0.56217161 -0.65559925 ... -1.02752699 -0.67166917\n",
            "  -1.22687232]\n",
            " ...\n",
            " [ 0.32929048  0.83389573  0.63864249 ... -0.29544821  0.31423392\n",
            "   0.5230011 ]\n",
            " [-0.29265215  0.44623688 -0.39038981 ...  0.44349349  0.50974073\n",
            "   0.6046407 ]\n",
            " [ 1.14118634  0.61520913 -0.92886642 ... -0.25356821 -1.86704063\n",
            "  -1.85650737]]\n"
          ]
        }
      ],
      "source": [
        "# Solução\n",
        "import numpy as np \n",
        "\n",
        "arr = np.random.randn(64, 512)\n",
        "\n",
        "print(arr)\n",
        "medias_potencial_eletrodos = np.mean(arr, axis=1)\n",
        "\n",
        "dados_processado = arr - medias_potencial_eletrodos[:, np.newaxis] # Broadcasting e operações vetorizadas\n",
        "\n",
        "print(f\"Dados processados: \\n{dados_processado}\")"
      ]
    },
    {
      "attachments": {},
      "cell_type": "markdown",
      "metadata": {
        "id": "7Gy6nTwQE6hj"
      },
      "source": [
        "## Questão 7\n",
        "\n",
        "Em estatística, um **outlier** é um valor que destoa consideravelmente da distribuição à qual está associado. Um dos critérios para idenficar outliers consiste em encontrar a **distância interquantil** (IQR), ou seja, a diferença entre o terceiro (Q3) e o primeiro quartis (Q1) da distribuição, e tomar como outliers todos os pontos abaixo do Limite Inferior (LI = Q1 - 1.5*IQR  ), ou acima do Limite Superior (LS = Q3 + 1.5*IQR)."
      ]
    },
    {
      "attachments": {},
      "cell_type": "markdown",
      "metadata": {},
      "source": [
        "![image.png](https://s3-sa-east-1.amazonaws.com/lcpi/0d8a7b04-b982-4e6b-9fc7-fbb062247d8d.png)\n"
      ]
    },
    {
      "cell_type": "markdown",
      "metadata": {
        "id": "CP-NkMHTE6hk"
      },
      "source": [
        "<img src = \"https://blog.curso-r.com/images/posts/banner/outlier.webp\" />"
      ]
    },
    {
      "cell_type": "markdown",
      "metadata": {
        "id": "BLDJN5JPE6hk"
      },
      "source": [
        "Escreva uma função que, dada uma matriz de dados de entrada de dimensões $N_{observações} \\times N_{features}$ retorne três requisitos: \n",
        "- uma matriz booleana indicando a existência de outliers nos dados de entrada;\n",
        "- a quantidade de outliers\n",
        "- quem são os outliers (os valores)."
      ]
    },
    {
      "cell_type": "markdown",
      "metadata": {
        "id": "wwVcP2uZE6hl"
      },
      "source": [
        "**Algumas definições:**\n",
        "- um *quantil* divide a distribuição, após ordenados os pontos, segundo algum ponto de corte;\n",
        "- o **primeiro quartil** é o ponto para o qual 25 % dos valores da distribuição estão abaixo dele;\n",
        "- o **terceiro quartil** é o ponto para o qual 75 % dos valores da distribuição estão abaixo dele.\n",
        "\n",
        "Pode ser útil consultar a função **numpy.quantile**."
      ]
    },
    {
      "cell_type": "markdown",
      "metadata": {
        "id": "C9nCKXhjE6hm"
      },
      "source": [
        "Exemplo de operação da função:"
      ]
    },
    {
      "attachments": {},
      "cell_type": "markdown",
      "metadata": {},
      "source": [
        "```python\n",
        "# Geremos um conjunto de dados qualquer\n",
        "X = np.random.randn(300,15)\n",
        "X\n",
        "\n",
        ">>> array([[-2.02108952,  0.57945921, -2.23074965, ..., -0.60349514,\n",
        "         0.92180452, -0.15625722],\n",
        "       [ 0.24904397,  0.03493447,  0.3515052 , ..., -0.46950081,\n",
        "         0.20361331,  0.02715956],\n",
        "       [ 0.55902525, -0.48435434,  0.90413414, ..., -0.54425743,\n",
        "        -0.80769134, -0.07912549],\n",
        "       ...,\n",
        "       [-1.04069388, -0.24245725, -2.00308877, ...,  0.4084777 ,\n",
        "        -1.81516131,  0.39063118],\n",
        "       [-1.39275097,  0.3989636 ,  0.2926223 , ...,  1.2620666 ,\n",
        "         0.72262949,  1.50737559],\n",
        "       [ 0.15922011, -0.79810788, -1.60939896, ..., -0.08214499,\n",
        "        -0.13167475,  0.15990558]])\n",
        "\n",
        "\n",
        "# identificamos os requisitos com nossa com nossa função \"locate_outliers\"\n",
        "is_outlier, outliers_count, outliers = locate_outliers(X)\n",
        "\n",
        "is_outlier\n",
        ">>> array([[False, False, False, ..., False, False, False],\n",
        "       [False, False, False, ..., False, False, False],\n",
        "       [False, False, False, ..., False, False, False],\n",
        "       ...,\n",
        "       [False, False, False, ..., False, False, False],\n",
        "       [False, False, False, ..., False, False, False],\n",
        "       [False, False, False, ..., False, False, False]])\n",
        "\n",
        "outliers_count\n",
        ">>> 44\n",
        "\n",
        "outliers\n",
        ">>> array([-2.67240384,  3.00270904,  3.62317101,  3.18867865,  2.55581522,\n",
        "       -2.82091429,  2.8757892 ,  2.70666036,  3.19514999, -3.40550318,\n",
        "       -3.39825827,  2.6727295 ,  2.54498296, -2.69447104,  3.19521603,\n",
        "        2.66372172, -2.77444948,  2.77421152,  2.69992869, -2.84831109,\n",
        "       -2.83695779, -2.45908227,  3.07802106,  2.89314015, -2.68574682,\n",
        "       -2.85019494,  2.43399574,  2.44291266, -2.92595937, -2.95911074,\n",
        "       -3.03966003,  2.77543068, -2.67368414, -2.79965402, -3.0501958 ,\n",
        "       -2.5437387 ,  3.08550649, -3.17666255, -3.05795476, -3.09826467,\n",
        "        3.1399469 ,  3.18141942,  2.90564257, -2.89505054])\n",
        "\n",
        " ``` "
      ]
    },
    {
      "cell_type": "code",
      "execution_count": 24,
      "metadata": {
        "id": "AdTkst5UE6hq"
      },
      "outputs": [
        {
          "name": "stdout",
          "output_type": "stream",
          "text": [
            "Foram encontrados 36 outlines.\n",
            "[-0.47551014 -1.16189275 -0.01304651  0.41677866  1.47713845  0.05606415\n",
            "  0.32129651 -0.15820562  1.41808535 -0.51071789  1.82271152  1.89383466\n",
            "  0.67258226 -0.19153505 -0.55512806  1.13569606  1.17054697  1.14467097\n",
            "  0.00462942  1.20903334  2.86978103 -0.48987124  0.70713954 -0.4444335\n",
            "  0.13628947  0.29777762  0.28258823 -1.36904863  0.36112596 -1.02723005\n",
            " -2.80802561 -0.36611875  0.13295199 -1.27000934  0.3050673   0.67355216]\n"
          ]
        }
      ],
      "source": [
        "# Solução\n",
        "import numpy as np \n",
        "\n",
        "array = np.random.randn(300, 15)\n",
        "\n",
        "def calculo_iqr(array):\n",
        "    array_ordenado = np.sort(array)\n",
        "    Q1 = np.percentile(array_ordenado, 25)\n",
        "    Q3 = np.percentile(array_ordenado, 75)\n",
        "    IQR = Q3 - Q1 \n",
        "    LI = Q1 - 1.5 * IQR \n",
        "    LS = Q3 + 1.5 * IQR \n",
        "\n",
        "    return LI, LS, array_ordenado\n",
        "\n",
        "def is_outline(valores):\n",
        "    LI, LS, array_ordenado = valores\n",
        "    \n",
        "    condicao = (array_ordenado < LI) | (array_ordenado > LS)\n",
        "    array_booelano = np.where(condicao, True, False)\n",
        "    array_outlines = array[condicao]\n",
        "    cont = 0 \n",
        "    for linha in array_booelano:\n",
        "        for item in linha:\n",
        "            if item == True:\n",
        "                cont += 1\n",
        "    print(f\"Foram encontrados {cont} outlines.\")\n",
        "    print(array_outlines)\n",
        "\n",
        "is_outline(calculo_iqr(array))"
      ]
    },
    {
      "cell_type": "markdown",
      "metadata": {
        "id": "upNDn96PE6hq"
      },
      "source": [
        "## Questão 8\n",
        "\n",
        "Crie um vetor com valores que vão de 1 até 21 de dois em dois, a partir da função arange"
      ]
    },
    {
      "cell_type": "code",
      "execution_count": 48,
      "metadata": {
        "id": "w4d14JRZE6hr"
      },
      "outputs": [
        {
          "name": "stdout",
          "output_type": "stream",
          "text": [
            "[ 1  3  5  7  9 11 13 15 17 19]\n"
          ]
        }
      ],
      "source": [
        "import numpy as np \n",
        "\n",
        "arr = np.arange(1,21,2)\n",
        "print(arr)"
      ]
    },
    {
      "cell_type": "markdown",
      "metadata": {
        "id": "SchEY1O7E6hr"
      },
      "source": [
        "## Questão 9\n",
        "\n",
        "Crie um array de 10 com valores aleatórios"
      ]
    },
    {
      "cell_type": "code",
      "execution_count": 52,
      "metadata": {
        "id": "MYpySePjE6hs"
      },
      "outputs": [
        {
          "name": "stdout",
          "output_type": "stream",
          "text": [
            "[-0.74036609 -0.56843967  0.12572419  1.04271728 -0.0254624   1.09652861\n",
            " -0.07706079 -0.98447255 -0.85370803  0.47109735]\n"
          ]
        }
      ],
      "source": [
        "import numpy as np \n",
        "arr = np.random.randn(10)\n",
        "print(arr)"
      ]
    },
    {
      "cell_type": "markdown",
      "metadata": {
        "id": "EFfvM6LIAlfJ"
      },
      "source": [
        "## Questão 10\n",
        "\n",
        "Em estatística, a normalização de uma distribuição de dados pode ser feita subtraindo o valor médio da distribuição de cada valor do conjunto de dados, dividindo o resultado pelo desvio-padrão da distribuição. Escreva uma função que normalize os dados recebidos por um array numpy qualquer, conforme descrito anteriormente."
      ]
    },
    {
      "cell_type": "code",
      "execution_count": 25,
      "metadata": {
        "id": "yfho2bziAlfJ"
      },
      "outputs": [
        {
          "name": "stdout",
          "output_type": "stream",
          "text": [
            "[-0.5441468  -0.5287947  -0.51344259 -0.49809049 -0.48273838 -0.46738628\n",
            " -0.45203418  0.97571151  2.51092192]\n"
          ]
        }
      ],
      "source": [
        "import numpy as np \n",
        "\n",
        "array = np.array([1, 2, 3, 4 ,5 ,6 ,7,100, 200])\n",
        "\n",
        "media = np.mean(array)\n",
        "desvio_padrao = np.std(array)\n",
        "\n",
        "array_normalizado = (array - media) / desvio_padrao\n",
        "\n",
        "print(array_normalizado)"
      ]
    },
    {
      "cell_type": "markdown",
      "metadata": {
        "id": "p60_N7ZwAlfK"
      },
      "source": [
        "## Questão 11\n",
        "\n",
        "Escreva uma função em numpy que receba um array contendo notas de uma turma de 100 estudantes. Considere que a nota de aprovação da turma é 5.0. A função deve retornar, em um array numpy, nesta ordem:\n",
        "- a média e o desvio-padrão das notas da turma;\n",
        "- o número de notas maiores que 7.0;\n",
        "- o número de reprovações da turma;\n",
        "- a menor nota da turma;\n",
        "- a maior nota da turma."
      ]
    },
    {
      "cell_type": "code",
      "execution_count": 28,
      "metadata": {
        "id": "Q3wkBCFtAlfK"
      },
      "outputs": [
        {
          "name": "stdout",
          "output_type": "stream",
          "text": [
            "A media da turma: 5.5 \n",
            "O desvio padrão: 2.8722813232690143\n",
            "O numero de reprovados: 1\n",
            "A menor nota: 1\n",
            "A maior nota: 10\n"
          ]
        }
      ],
      "source": [
        "import numpy as np \n",
        "notas = np.arange(1,11)\n",
        "\n",
        "def calcular_notas(notas):\n",
        "    media = np.mean(notas)\n",
        "    desvio_padrao = np.std(notas)\n",
        "    reprovados = np.where(notas < 5)\n",
        "    menor_nota = np.min(notas)\n",
        "    maior_nota = np.max(notas)\n",
        "\n",
        "    print(f\"A media da turma: {media} \\nO desvio padrão: {desvio_padrao}\")\n",
        "    print(f\"O numero de reprovados: {len(reprovados)}\")\n",
        "    print(f\"A menor nota: {menor_nota}\")\n",
        "    print(f\"A maior nota: {maior_nota}\")\n",
        "\n",
        "calcular_notas(notas)"
      ]
    }
  ],
  "metadata": {
    "colab": {
      "include_colab_link": true,
      "provenance": []
    },
    "kernelspec": {
      "display_name": "SUZANO-TECPROG1",
      "language": "python",
      "name": "python3"
    },
    "language_info": {
      "codemirror_mode": {
        "name": "ipython",
        "version": 3
      },
      "file_extension": ".py",
      "mimetype": "text/x-python",
      "name": "python",
      "nbconvert_exporter": "python",
      "pygments_lexer": "ipython3",
      "version": "3.12.5"
    },
    "orig_nbformat": 4,
    "vscode": {
      "interpreter": {
        "hash": "38d4061a99e7c6638a090ce08c14a66640e6088dc5ef74a7f33c8fdd952ca81d"
      }
    }
  },
  "nbformat": 4,
  "nbformat_minor": 0
}
